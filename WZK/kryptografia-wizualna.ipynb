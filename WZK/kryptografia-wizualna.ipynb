{
 "cells": [
  {
   "cell_type": "markdown",
   "id": "5205db91",
   "metadata": {},
   "source": [
    "# Kryptografia wizualna"
   ]
  },
  {
   "cell_type": "code",
   "execution_count": 1,
   "id": "45a85e94",
   "metadata": {},
   "outputs": [],
   "source": [
    "import time\n",
    "import os.path\n",
    "import random\n",
    "import numpy\n",
    "from matplotlib import pyplot\n",
    "from ipywidgets import interact, Dropdown, Button, Text, Box"
   ]
  },
  {
   "cell_type": "code",
   "execution_count": 2,
   "id": "029b9941",
   "metadata": {},
   "outputs": [],
   "source": [
    "def convert_to_black_and_white(image: numpy.ndarray) -> numpy.ndarray:\n",
    "    if len(image.shape) == 3:\n",
    "        if image.shape[2] == 4:\n",
    "            image = image[:, :, :3]\n",
    "\n",
    "        if image.shape[2] == 3:\n",
    "            image = image.sum(axis=2) / 3\n",
    "\n",
    "    if issubclass(image.dtype.type, numpy.floating):\n",
    "        image = image * 255\n",
    "\n",
    "    image_bw = numpy.zeros_like(image, dtype=bool)\n",
    "    image_bw[image > 127] = True\n",
    "    return image_bw"
   ]
  },
  {
   "cell_type": "code",
   "execution_count": 3,
   "id": "9ea00079",
   "metadata": {},
   "outputs": [],
   "source": [
    "class Encryptor:\n",
    "    def __init__(self, text1: Text, text2: Text, button: Button):\n",
    "        self.image1: numpy.ndarray = None\n",
    "        self.image2: numpy.ndarray = None\n",
    "        self.text1 = text1\n",
    "        self.text2 = text2\n",
    "        self.button = button\n",
    "\n",
    "    def encrypt(self, filename: str):\n",
    "        if filename is None:\n",
    "            return\n",
    "        \n",
    "        self.button.enabled = False\n",
    "        self.button.description = \"Computing\"\n",
    "\n",
    "        _, (ax1, ax2, ax3) = pyplot.subplots(1, 3, sharey=True, figsize=[10.0, 4.8], layout=\"tight\")\n",
    "        \n",
    "        image = pyplot.imread(filename)\n",
    "        image = convert_to_black_and_white(image)\n",
    "\n",
    "        ax1.imshow(image, cmap=\"gray\")\n",
    "\n",
    "        self.image1 = numpy.zeros((image.shape[0], image.shape[1] * 2), dtype=bool)\n",
    "        self.image1[:, ::2] = numpy.random.randint(0, high=2, size=image.shape, dtype=bool)\n",
    "        self.image1[:, 1::2] = numpy.logical_not(self.image1[:, ::2])\n",
    "        self.image2 = numpy.copy(self.image1)\n",
    "        self.image2[:, ::2][image] = numpy.logical_not(self.image2[:, ::2][image])\n",
    "        self.image2[:, 1::2] = numpy.logical_not(self.image2[:, ::2])\n",
    "        \n",
    "        ax2.imshow(self.image1, cmap=\"gray\")\n",
    "        ax3.imshow(self.image2, cmap=\"gray\")\n",
    "        pyplot.show()\n",
    "\n",
    "        self.button.description = \"Save result\"\n",
    "        self.button.enabled=True\n",
    "        \n",
    "        \n",
    "    def save(self, *args):\n",
    "        self.button.disabled = False\n",
    "        \n",
    "        if self.image1 is None or self.image2 is None:\n",
    "            self.button.description = \"Nothing to save :(\"\n",
    "        elif self.text1.value is None or self.text2.value is None:\n",
    "            self.button.description = \"Specify save file names\"\n",
    "        else:\n",
    "            pyplot.imsave(self.text1.value, self.image1, cmap=\"gray\")\n",
    "            pyplot.imsave(self.text2.value, self.image2, cmap=\"gray\")\n",
    "            self.button.description = \"Saved!\"\n",
    "\n",
    "        time.sleep(2)\n",
    "        self.button.description = \"Save result\"\n",
    "        self.button.enabled = True\n",
    "        "
   ]
  },
  {
   "cell_type": "code",
   "execution_count": 4,
   "id": "3a50980c",
   "metadata": {},
   "outputs": [],
   "source": [
    "class Decryptor:\n",
    "    def __init__(self, text: Text, button: Button):\n",
    "        self.image: numpy.ndarray = None\n",
    "        self.text = text\n",
    "        self.button = button\n",
    "\n",
    "    def decrypt(self, filename1: str, filename2: str):\n",
    "        if filename1 is None or filename2 is None:\n",
    "            return\n",
    "\n",
    "        self.button.enabled = False\n",
    "        self.button.description = \"Computing\"\n",
    "\n",
    "        _, (ax1, ax2, ax3) = pyplot.subplots(1, 3, sharey=True, figsize=[10.0, 4.8], layout=\"tight\")\n",
    "\n",
    "        image1 = pyplot.imread(filename1)\n",
    "        image2 = pyplot.imread(filename2)\n",
    "\n",
    "        if image1.shape != image2.shape:\n",
    "            raise ValueError(\"Images differ in size\")\n",
    "\n",
    "        image1 = convert_to_black_and_white(image1)\n",
    "        image2 = convert_to_black_and_white(image2)\n",
    "\n",
    "        ax1.imshow(image1, cmap=\"gray\")\n",
    "        ax2.imshow(image2, cmap=\"gray\")\n",
    "\n",
    "        self.image = numpy.logical_or(image1, image2)\n",
    "        \n",
    "        ax3.imshow(self.image, cmap=\"gray\")\n",
    "        pyplot.show()\n",
    "\n",
    "        self.button.description = \"Save result\"\n",
    "        self.button.enabled=True\n",
    "        \n",
    "        \n",
    "    def save(self, *args):\n",
    "        self.button.disabled = False\n",
    "        \n",
    "        if self.image is None:\n",
    "            self.button.description = \"Nothing to save :(\"\n",
    "        elif self.text.value is None:\n",
    "            self.button.description = \"Specify save file name\"\n",
    "        else:\n",
    "            pyplot.imsave(self.text.value, self.image, cmap=\"gray\")\n",
    "            self.button.description = \"Saved!\"\n",
    "\n",
    "        time.sleep(2)\n",
    "        self.button.description = \"Save result\"\n",
    "        self.button.enabled = True\n",
    "        "
   ]
  },
  {
   "cell_type": "markdown",
   "id": "30ca80a6",
   "metadata": {},
   "source": [
    "## Encryption"
   ]
  },
  {
   "cell_type": "code",
   "execution_count": 5,
   "id": "b1963649",
   "metadata": {
    "scrolled": false
   },
   "outputs": [
    {
     "data": {
      "application/vnd.jupyter.widget-view+json": {
       "model_id": "edd2cfff20e8452c8f453fd851b100f0",
       "version_major": 2,
       "version_minor": 0
      },
      "text/plain": [
       "interactive(children=(Dropdown(description='Input:', options=('first.png', 'original.png', 'reproduction.png',…"
      ]
     },
     "metadata": {},
     "output_type": "display_data"
    },
    {
     "data": {
      "application/vnd.jupyter.widget-view+json": {
       "model_id": "50931a6534834bebbaf362ffbf4b9180",
       "version_major": 2,
       "version_minor": 0
      },
      "text/plain": [
       "Box(children=(Text(value='first.png', description='Output1:'), Text(value='second.png', description='Output2:'…"
      ]
     },
     "metadata": {},
     "output_type": "display_data"
    }
   ],
   "source": [
    "text1 = Text(description=\"Output1:\")\n",
    "text2 = Text(description=\"Output2:\")\n",
    "text1.value=\"first.png\"\n",
    "text2.value=\"second.png\"\n",
    "button = Button(description=\"Save result\", enabled=False)\n",
    "encryptor = Encryptor(text1, text2, button)\n",
    "\n",
    "filenames = next(os.walk(\".\"))[2]\n",
    "interact(encryptor.encrypt, filename=Dropdown(options=filenames, value=None, description=\"Input:\"))\n",
    "\n",
    "button.on_click(encryptor.save)\n",
    "display(Box([text1, text2, button]));"
   ]
  },
  {
   "cell_type": "markdown",
   "id": "61ca03b8",
   "metadata": {},
   "source": [
    "## Decryption"
   ]
  },
  {
   "cell_type": "code",
   "execution_count": 6,
   "id": "0489a11f",
   "metadata": {},
   "outputs": [
    {
     "data": {
      "application/vnd.jupyter.widget-view+json": {
       "model_id": "8bdab233e69249e4b3109188e246d178",
       "version_major": 2,
       "version_minor": 0
      },
      "text/plain": [
       "interactive(children=(Dropdown(description='Input1:', options=('first.png', 'original.png', 'reproduction.png'…"
      ]
     },
     "metadata": {},
     "output_type": "display_data"
    },
    {
     "data": {
      "application/vnd.jupyter.widget-view+json": {
       "model_id": "c8fd99dcc1b047fe9557e3bd688aa406",
       "version_major": 2,
       "version_minor": 0
      },
      "text/plain": [
       "Box(children=(Text(value='reproduction.png', description='Output:'), Button(description='Save result', style=B…"
      ]
     },
     "metadata": {},
     "output_type": "display_data"
    }
   ],
   "source": [
    "text = Text(description=\"Output:\")\n",
    "text.value=\"reproduction.png\"\n",
    "button = Button(description=\"Save result\", enabled=False)\n",
    "decryptor = Decryptor(text, button)\n",
    "\n",
    "filenames = next(os.walk(\".\"))[2]\n",
    "interact(\n",
    "    decryptor.decrypt,\n",
    "    filename1=Dropdown(options=filenames, value=None, description=\"Input1:\"),\n",
    "    filename2=Dropdown(options=filenames, value=None, description=\"Input2:\")\n",
    ")\n",
    "\n",
    "button.on_click(decryptor.save)\n",
    "display(Box([text, button]));"
   ]
  }
 ],
 "metadata": {
  "kernelspec": {
   "display_name": "Python 3 (ipykernel)",
   "language": "python",
   "name": "python3"
  },
  "language_info": {
   "codemirror_mode": {
    "name": "ipython",
    "version": 3
   },
   "file_extension": ".py",
   "mimetype": "text/x-python",
   "name": "python",
   "nbconvert_exporter": "python",
   "pygments_lexer": "ipython3",
   "version": "3.8.0"
  }
 },
 "nbformat": 4,
 "nbformat_minor": 5
}
