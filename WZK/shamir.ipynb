{
 "cells": [
  {
   "cell_type": "code",
   "execution_count": 31,
   "metadata": {},
   "outputs": [],
   "source": [
    "import sympy\n",
    "import random\n",
    "import numpy\n",
    "import scipy.interpolate"
   ]
  },
  {
   "cell_type": "code",
   "execution_count": 32,
   "metadata": {},
   "outputs": [],
   "source": [
    "secret = 87123872\n",
    "share = 7\n",
    "poly_degree = 4"
   ]
  },
  {
   "cell_type": "markdown",
   "metadata": {},
   "source": [
    "# Algorytm rozdzielający"
   ]
  },
  {
   "cell_type": "markdown",
   "metadata": {},
   "source": [
    "## Generowanie liczby p"
   ]
  },
  {
   "cell_type": "code",
   "execution_count": 33,
   "metadata": {},
   "outputs": [
    {
     "data": {
      "text/plain": [
       "4428352539433488498058333"
      ]
     },
     "execution_count": 33,
     "metadata": {},
     "output_type": "execute_result"
    }
   ],
   "source": [
    "\n",
    "p = sympy.randprime(max(secret, share), 100000000999990000000000000)\n",
    "p\n"
   ]
  },
  {
   "cell_type": "code",
   "execution_count": 34,
   "metadata": {},
   "outputs": [
    {
     "data": {
      "text/plain": [
       "[51345866, 15485036, 82303967]"
      ]
     },
     "execution_count": 34,
     "metadata": {},
     "output_type": "execute_result"
    }
   ],
   "source": [
    "t_rand = [random.randint(1,100000000) for _ in range(poly_degree - 1)]\n",
    "t_rand"
   ]
  },
  {
   "cell_type": "code",
   "execution_count": 35,
   "metadata": {},
   "outputs": [
    {
     "name": "stdout",
     "output_type": "stream",
     "text": [
      "1 (1, 153954774)\n",
      "2 (2, 251755748)\n",
      "3 (3, 380526794)\n",
      "4 (4, 540267912)\n",
      "5 (5, 730979102)\n",
      "6 (6, 952660364)\n",
      "7 (7, 1205311698)\n"
     ]
    }
   ],
   "source": [
    "ss = []\n",
    "for i in range(share):\n",
    "    _sum = 0\n",
    "    x = i + 1\n",
    "    for j in range(1, poly_degree - 1):\n",
    "        _sum += (t_rand[j - 1] * (x ** (j))) % p\n",
    "    ss.append((i+1,secret + _sum))\n",
    "    print(i+1, ss[-1])"
   ]
  },
  {
   "cell_type": "markdown",
   "metadata": {},
   "source": [
    "# Algorytm łączenia"
   ]
  },
  {
   "cell_type": "code",
   "execution_count": 36,
   "metadata": {},
   "outputs": [
    {
     "name": "stdout",
     "output_type": "stream",
     "text": [
      "[[  1   6  36 216]\n",
      " [  1   1   1   1]\n",
      " [  1   3   9  27]\n",
      " [  1   5  25 125]] [952660364 153954774 380526794 730979102]\n"
     ]
    },
    {
     "name": "stderr",
     "output_type": "stream",
     "text": [
      "C:\\Users\\drwho\\AppData\\Local\\Temp/ipykernel_19076/3705690680.py:28: FutureWarning: `rcond` parameter will change to the default of machine precision times ``max(M, N)`` where M and N are the input matrix dimensions.\n",
      "To use the future default and silence this warning we advise to pass `rcond=None`, to keep using the old, explicitly pass `rcond=-1`.\n",
      "  return round(numpy.linalg.lstsq(a,b)[0][0])\n"
     ]
    },
    {
     "data": {
      "text/plain": [
       "87123872"
      ]
     },
     "execution_count": 36,
     "metadata": {},
     "output_type": "execute_result"
    }
   ],
   "source": [
    "def prepare_eq(i, s, t):\n",
    "    lst = []\n",
    "    for x in range(t):\n",
    "        lst += [i**x]\n",
    "\n",
    "    a = [lst]\n",
    "    b = [s]\n",
    "    return a, b\n",
    "\n",
    "def solve(amnt):\n",
    "    selected = []\n",
    "    for _ in range(amnt):\n",
    "        tmp = random.choice(ss)\n",
    "        while tmp in selected:\n",
    "            tmp = random.choice(ss)\n",
    "        selected += [tmp]\n",
    "\n",
    "    a = []\n",
    "    b = []\n",
    "    for sel in selected:\n",
    "        aa, bb = prepare_eq(sel[0], sel[1], poly_degree)\n",
    "        a += aa\n",
    "        b += bb\n",
    "    a = numpy.array(a)\n",
    "    b = numpy.array(b)\n",
    "    print(a, b)\n",
    "\n",
    "    return round(numpy.linalg.lstsq(a,b)[0][0])\n",
    "\n",
    "solve(4)"
   ]
  }
 ],
 "metadata": {
  "interpreter": {
   "hash": "0c1f53e2c7b8ad6446320ad86841f1d26c47736be21fc0250721290563302cd6"
  },
  "kernelspec": {
   "display_name": "Python 3 (ipykernel)",
   "language": "python",
   "name": "python3"
  },
  "language_info": {
   "codemirror_mode": {
    "name": "ipython",
    "version": 3
   },
   "file_extension": ".py",
   "mimetype": "text/x-python",
   "name": "python",
   "nbconvert_exporter": "python",
   "pygments_lexer": "ipython3",
   "version": "3.8.0"
  }
 },
 "nbformat": 4,
 "nbformat_minor": 2
}
